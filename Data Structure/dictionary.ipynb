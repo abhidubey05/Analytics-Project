{
 "cells": [
  {
   "cell_type": "code",
   "execution_count": 2,
   "metadata": {},
   "outputs": [
    {
     "name": "stdout",
     "output_type": "stream",
     "text": [
      "{'name': 'john', 'age': 23, 'gender': 'male', 'address': '123 main st', 'rollno': 12, 'marks': 60, 'class': 'physics'}\n"
     ]
    }
   ],
   "source": [
    "student={\n",
    "    \"name\": \"john\",\n",
    "    \"age\" : 23,\n",
    "    \"gender\":\"male\",\n",
    "    \"address\": \"123 main st\",\n",
    "    \"rollno\": 12,\n",
    "    \"marks\" :60,\n",
    "    \"class\":\"physics\"\n",
    "\n",
    "}\n",
    "print(student)"
   ]
  },
  {
   "cell_type": "markdown",
   "metadata": {},
   "source": [
    ". How to declare it \n",
    ". How to access key \n",
    ". How to use loops in dictionary\n",
    ". Indexing in dictionary"
   ]
  },
  {
   "cell_type": "code",
   "execution_count": 3,
   "metadata": {},
   "outputs": [
    {
     "name": "stdout",
     "output_type": "stream",
     "text": [
      "{'lucknow': [25, 30, 35], 'delhi': [30, 35, 40], 'mumbai': [35, 40, 45]}\n"
     ]
    }
   ],
   "source": [
    "temp ={\n",
    "    'lucknow':[25,30,35],\n",
    "    'delhi':[30,35,40],\n",
    "    'mumbai':[35,40,45]\n",
    "}\n",
    "print(temp)"
   ]
  },
  {
   "cell_type": "code",
   "execution_count": 4,
   "metadata": {},
   "outputs": [
    {
     "name": "stdout",
     "output_type": "stream",
     "text": [
      "{'name': 'John', 'age': 18, 'rollno': 12, 'marks': 60}\n"
     ]
    }
   ],
   "source": [
    "info = dict(name='John', age=18, rollno=12, marks=60)\n",
    "print(info)"
   ]
  },
  {
   "cell_type": "code",
   "execution_count": 5,
   "metadata": {},
   "outputs": [
    {
     "ename": "ValueError",
     "evalue": "invalid literal for int() with base 10: ''",
     "output_type": "error",
     "traceback": [
      "\u001b[1;31m---------------------------------------------------------------------------\u001b[0m",
      "\u001b[1;31mValueError\u001b[0m                                Traceback (most recent call last)",
      "Cell \u001b[1;32mIn[5], line 1\u001b[0m\n\u001b[1;32m----> 1\u001b[0m info2\u001b[38;5;241m=\u001b[39m \u001b[38;5;28mdict\u001b[39m(name \u001b[38;5;241m=\u001b[39m \u001b[38;5;28minput\u001b[39m(\u001b[38;5;124m\"\u001b[39m\u001b[38;5;124mEnter name:\u001b[39m\u001b[38;5;124m\"\u001b[39m), age\u001b[38;5;241m=\u001b[39m\u001b[38;5;28;43mint\u001b[39;49m\u001b[43m(\u001b[49m\u001b[38;5;28;43minput\u001b[39;49m\u001b[43m(\u001b[49m\u001b[38;5;124;43m\"\u001b[39;49m\u001b[38;5;124;43mEnter age:\u001b[39;49m\u001b[38;5;124;43m\"\u001b[39;49m\u001b[43m)\u001b[49m\u001b[43m)\u001b[49m,\n\u001b[0;32m      2\u001b[0m rollno \u001b[38;5;241m=\u001b[39m \u001b[38;5;28mint\u001b[39m(\u001b[38;5;28minput\u001b[39m(\u001b[38;5;124m\"\u001b[39m\u001b[38;5;124mEnter rollno\u001b[39m\u001b[38;5;124m\"\u001b[39m)), marks \u001b[38;5;241m=\u001b[39m \u001b[38;5;28mint\u001b[39m(\u001b[38;5;28minput\u001b[39m(\u001b[38;5;124m\"\u001b[39m\u001b[38;5;124mEnter marks:\u001b[39m\u001b[38;5;124m\"\u001b[39m)))\n\u001b[0;32m      3\u001b[0m \u001b[38;5;28mprint\u001b[39m(info2)\n",
      "\u001b[1;31mValueError\u001b[0m: invalid literal for int() with base 10: ''"
     ]
    }
   ],
   "source": [
    "info2= dict(name = input(\"Enter name:\"), age=int(input(\"Enter age:\")),\n",
    "rollno = int(input(\"Enter rollno\")), marks = int(input(\"Enter marks:\")))\n",
    "print(info2)\n",
    "            "
   ]
  },
  {
   "cell_type": "markdown",
   "metadata": {},
   "source": [
    "# 1st method to access value through its key"
   ]
  },
  {
   "cell_type": "code",
   "execution_count": 26,
   "metadata": {},
   "outputs": [
    {
     "name": "stdout",
     "output_type": "stream",
     "text": [
      "abhi\n",
      "12\n"
     ]
    }
   ],
   "source": [
    "print(info2['name'])\n",
    "print(info2['age'])"
   ]
  },
  {
   "cell_type": "code",
   "execution_count": 27,
   "metadata": {},
   "outputs": [
    {
     "name": "stdout",
     "output_type": "stream",
     "text": [
      "abhi\n",
      "12\n"
     ]
    }
   ],
   "source": [
    "#2nd method to acces value through its key\n",
    "print(info2.get('name'))\n",
    "print(info2.get('marks'))"
   ]
  },
  {
   "cell_type": "code",
   "execution_count": 28,
   "metadata": {},
   "outputs": [
    {
     "name": "stdout",
     "output_type": "stream",
     "text": [
      "{'name': 'john', 'age': 23, 'gender': 'male', 'address': '123 main st', 'rollno': 12, 'marks': 60, 'class': 'physics', 'city': 'Lucknow'}\n"
     ]
    }
   ],
   "source": [
    "# to add items in a dictionary\n",
    "student['city'] = 'Lucknow'\n",
    "print(student)"
   ]
  },
  {
   "cell_type": "code",
   "execution_count": 29,
   "metadata": {},
   "outputs": [
    {
     "name": "stdout",
     "output_type": "stream",
     "text": [
      "dict_keys(['name', 'age', 'gender', 'address', 'rollno', 'marks', 'class', 'city'])\n",
      "dict_values(['john', 23, 'male', '123 main st', 12, 60, 'physics', 'Lucknow'])\n"
     ]
    }
   ],
   "source": [
    "print(student.keys())\n",
    "print(student.values())"
   ]
  },
  {
   "cell_type": "code",
   "execution_count": 30,
   "metadata": {},
   "outputs": [
    {
     "name": "stdout",
     "output_type": "stream",
     "text": [
      "name\n",
      "age\n",
      "gender\n",
      "address\n",
      "rollno\n",
      "marks\n",
      "class\n",
      "city\n"
     ]
    }
   ],
   "source": [
    "for k in student:\n",
    "    print(k)"
   ]
  },
  {
   "cell_type": "code",
   "execution_count": 33,
   "metadata": {},
   "outputs": [
    {
     "name": "stdout",
     "output_type": "stream",
     "text": [
      "name: john\n",
      "age: 23\n",
      "gender: male\n",
      "address: 123 main st\n",
      "rollno: 12\n",
      "marks: 60\n",
      "class: physics\n",
      "city: Lucknow\n"
     ]
    }
   ],
   "source": [
    "for k,v in student.items():\n",
    "    print(f'{k}: {v}' )"
   ]
  },
  {
   "cell_type": "code",
   "execution_count": 35,
   "metadata": {},
   "outputs": [
    {
     "name": "stdout",
     "output_type": "stream",
     "text": [
      "{'emp001': {'name ': 'John', 'age': 25, 'dept': 'HR'}, 'emp002': {'name ': 'John', 'age': 30, 'dept': 'IT'}, 'emp003': {'name ': 'smith', 'age': 25, 'dept': 'finance'}}\n"
     ]
    }
   ],
   "source": [
    "# multiple dictionary\n",
    "company ={\n",
    "    'emp001' :{\n",
    "        'name ' : 'John',\n",
    "        'age' : 25,\n",
    "        'dept' : 'HR'\n",
    "    },\n",
    "    'emp002' :{\n",
    "        'name ' : 'John',\n",
    "        'age' : 30,\n",
    "        'dept' : 'IT'\n",
    "    },\n",
    "    'emp003' :{\n",
    "        'name ' : 'smith',\n",
    "        'age' : 25,\n",
    "        'dept' : 'finance'\n",
    "    }\n",
    "}\n",
    "print(company)"
   ]
  },
  {
   "cell_type": "code",
   "execution_count": 36,
   "metadata": {},
   "outputs": [
    {
     "name": "stdout",
     "output_type": "stream",
     "text": [
      "{'emp001': {'name ': 'John', 'age': 25, 'dept': 'HR'},\n",
      " 'emp002': {'name ': 'John', 'age': 30, 'dept': 'IT'},\n",
      " 'emp003': {'name ': 'smith', 'age': 25, 'dept': 'finance'}}\n"
     ]
    }
   ],
   "source": [
    "from pprint import pp\n",
    "pp(company)"
   ]
  },
  {
   "cell_type": "code",
   "execution_count": 38,
   "metadata": {},
   "outputs": [
    {
     "name": "stdout",
     "output_type": "stream",
     "text": [
      "30\n"
     ]
    }
   ],
   "source": [
    "print(company['emp002'] ['age'])"
   ]
  },
  {
   "cell_type": "code",
   "execution_count": 39,
   "metadata": {},
   "outputs": [
    {
     "name": "stdout",
     "output_type": "stream",
     "text": [
      "30\n",
      "40\n"
     ]
    }
   ],
   "source": [
    "print(temp['lucknow'][1])\n",
    "print(temp['delhi'][2])"
   ]
  },
  {
   "cell_type": "code",
   "execution_count": 6,
   "metadata": {},
   "outputs": [
    {
     "name": "stdout",
     "output_type": "stream",
     "text": [
      "Average Temprature of delhi is : 35.0\n"
     ]
    }
   ],
   "source": [
    "print('Average Temprature of delhi is :', sum (temp['delhi']) /len(temp['delhi']))"
   ]
  }
 ],
 "metadata": {
  "kernelspec": {
   "display_name": "base",
   "language": "python",
   "name": "python3"
  },
  "language_info": {
   "codemirror_mode": {
    "name": "ipython",
    "version": 3
   },
   "file_extension": ".py",
   "mimetype": "text/x-python",
   "name": "python",
   "nbconvert_exporter": "python",
   "pygments_lexer": "ipython3",
   "version": "3.12.3"
  }
 },
 "nbformat": 4,
 "nbformat_minor": 2
}

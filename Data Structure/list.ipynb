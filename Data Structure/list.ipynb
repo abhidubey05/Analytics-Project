{
 "cells": [
  {
   "cell_type": "code",
   "execution_count": 52,
   "metadata": {},
   "outputs": [
    {
     "name": "stdout",
     "output_type": "stream",
     "text": [
      "['google', 'netflix', 'snapchat', 'amazon prime', 'Hotstar', 'whatsapp', 'facebook', 'instagram', 'radio', 'Play store']\n"
     ]
    }
   ],
   "source": [
    "apps = ['google', 'netflix', 'snapchat', 'amazon prime', 'Hotstar','whatsapp', 'facebook','instagram','radio','Play store']\n",
    "print(apps)"
   ]
  },
  {
   "cell_type": "markdown",
   "metadata": {},
   "source": [
    "indexing"
   ]
  },
  {
   "cell_type": "code",
   "execution_count": 53,
   "metadata": {},
   "outputs": [
    {
     "name": "stdout",
     "output_type": "stream",
     "text": [
      "whatsapp\n"
     ]
    }
   ],
   "source": [
    "print(apps[5])"
   ]
  },
  {
   "cell_type": "code",
   "execution_count": 54,
   "metadata": {},
   "outputs": [
    {
     "name": "stdout",
     "output_type": "stream",
     "text": [
      "10\n"
     ]
    }
   ],
   "source": [
    "a = [2,4,6,8,10,12,14]\n",
    "print(a[4])"
   ]
  },
  {
   "cell_type": "markdown",
   "metadata": {},
   "source": [
    "SLICING"
   ]
  },
  {
   "cell_type": "code",
   "execution_count": 55,
   "metadata": {},
   "outputs": [
    {
     "name": "stdout",
     "output_type": "stream",
     "text": [
      "['snapchat', 'amazon prime', 'Hotstar']\n",
      "['netflix', 'amazon prime', 'whatsapp', 'instagram', 'Play store']\n",
      "['snapchat', 'amazon prime', 'Hotstar', 'whatsapp', 'facebook', 'instagram', 'radio', 'Play store']\n",
      "['google', 'netflix', 'snapchat', 'amazon prime', 'Hotstar']\n",
      "['google', 'netflix', 'snapchat', 'amazon prime', 'Hotstar', 'whatsapp', 'facebook', 'instagram', 'radio', 'Play store']\n"
     ]
    }
   ],
   "source": [
    "print(apps[2:5])\n",
    "print(apps[1:10:2])\n",
    "print(apps[2:])\n",
    "print(apps[:5])\n",
    "print(apps[:])"
   ]
  },
  {
   "cell_type": "markdown",
   "metadata": {},
   "source": [
    "List Methods\n",
    "- append () : to add an element at the end of the list\n",
    "- insert () : to add an element at any specific position\n",
    "- pop () : to delete an item using the index position \n",
    "- remove (): to delete an item using it's name\n",
    "- sort () : to sort the list in a particular order\n",
    "- copy () : to make aa copy of the list \n",
    "- extend () : to combine to list into a one list\n",
    "- clear () : "
   ]
  },
  {
   "cell_type": "code",
   "execution_count": 56,
   "metadata": {},
   "outputs": [
    {
     "name": "stdout",
     "output_type": "stream",
     "text": [
      "['google', 'netflix', 'snapchat', 'amazon prime', 'Hotstar', 'whatsapp', 'facebook', 'instagram', 'radio', 'Play store']\n"
     ]
    }
   ],
   "source": [
    "print(apps)"
   ]
  },
  {
   "cell_type": "code",
   "execution_count": 57,
   "metadata": {},
   "outputs": [
    {
     "name": "stdout",
     "output_type": "stream",
     "text": [
      "['google', 'netflix', 'snapchat', 'amazon prime', 'Hotstar', 'whatsapp', 'facebook', 'instagram', 'radio', 'Play store', 'whatsapp']\n"
     ]
    }
   ],
   "source": [
    "apps.append('whatsapp')\n",
    "print(apps)"
   ]
  },
  {
   "cell_type": "code",
   "execution_count": 58,
   "metadata": {},
   "outputs": [
    {
     "name": "stdout",
     "output_type": "stream",
     "text": [
      "['google', 'netflix', 'snapchat', 'radio', 'amazon prime', 'Hotstar', 'whatsapp', 'facebook', 'instagram', 'radio', 'Play store', 'whatsapp']\n"
     ]
    }
   ],
   "source": [
    "apps.insert(3,'radio')\n",
    "print(apps)"
   ]
  },
  {
   "cell_type": "code",
   "execution_count": 59,
   "metadata": {},
   "outputs": [
    {
     "data": {
      "text/plain": [
       "'whatsapp'"
      ]
     },
     "execution_count": 59,
     "metadata": {},
     "output_type": "execute_result"
    }
   ],
   "source": [
    "apps.pop(-1)\n"
   ]
  },
  {
   "cell_type": "code",
   "execution_count": 60,
   "metadata": {},
   "outputs": [
    {
     "name": "stdout",
     "output_type": "stream",
     "text": [
      "['google', 'netflix', 'snapchat', 'radio', 'amazon prime', 'Hotstar', 'whatsapp', 'facebook', 'instagram', 'radio', 'Play store']\n"
     ]
    }
   ],
   "source": [
    "print(apps)"
   ]
  },
  {
   "cell_type": "code",
   "execution_count": 61,
   "metadata": {},
   "outputs": [
    {
     "name": "stdout",
     "output_type": "stream",
     "text": [
      "['google', 'snapchat', 'radio', 'amazon prime', 'Hotstar', 'whatsapp', 'facebook', 'instagram', 'radio', 'Play store']\n"
     ]
    }
   ],
   "source": [
    "apps.remove('netflix')\n",
    "print(apps)"
   ]
  },
  {
   "cell_type": "code",
   "execution_count": 62,
   "metadata": {},
   "outputs": [
    {
     "name": "stdout",
     "output_type": "stream",
     "text": [
      "['Hotstar', 'Play store', 'amazon prime', 'facebook', 'google', 'instagram', 'radio', 'radio', 'snapchat', 'whatsapp']\n"
     ]
    }
   ],
   "source": [
    "apps.sort()\n",
    "print(apps)"
   ]
  },
  {
   "cell_type": "code",
   "execution_count": 63,
   "metadata": {},
   "outputs": [
    {
     "name": "stdout",
     "output_type": "stream",
     "text": [
      "['Hotstar', 'Play store', 'amazon prime', 'facebook', 'google', 'instagram', 'radio', 'radio', 'snapchat', 'whatsapp']\n"
     ]
    }
   ],
   "source": [
    "apps2 = apps.copy()\n",
    "print(apps2)"
   ]
  },
  {
   "cell_type": "code",
   "execution_count": 64,
   "metadata": {},
   "outputs": [
    {
     "name": "stdout",
     "output_type": "stream",
     "text": [
      "['Hotstar', 'Play store', 'amazon prime', 'facebook', 'google', 'instagram', 'radio', 'radio', 'snapchat', 'whatsapp', 'Hotstar', 'Play store', 'amazon prime', 'facebook', 'google', 'instagram', 'radio', 'radio', 'snapchat', 'whatsapp']\n"
     ]
    }
   ],
   "source": [
    "apps.extend(apps2)\n",
    "print(apps)"
   ]
  },
  {
   "cell_type": "code",
   "execution_count": 65,
   "metadata": {},
   "outputs": [
    {
     "name": "stdout",
     "output_type": "stream",
     "text": [
      "['Hotstar', 'Play store', 'amazon prime', 'facebook', 'google', 'instagram', 'radio', 'radio', 'snapchat', 'whatsapp']\n"
     ]
    }
   ],
   "source": [
    "apps2.clear\n",
    "print(apps2)"
   ]
  }
 ],
 "metadata": {
  "kernelspec": {
   "display_name": "base",
   "language": "python",
   "name": "python3"
  },
  "language_info": {
   "codemirror_mode": {
    "name": "ipython",
    "version": 3
   },
   "file_extension": ".py",
   "mimetype": "text/x-python",
   "name": "python",
   "nbconvert_exporter": "python",
   "pygments_lexer": "ipython3",
   "version": "3.12.3"
  }
 },
 "nbformat": 4,
 "nbformat_minor": 2
}

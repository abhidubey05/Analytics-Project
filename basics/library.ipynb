{
 "cells": [
  {
   "cell_type": "code",
   "execution_count": 29,
   "metadata": {},
   "outputs": [],
   "source": [
    "import math"
   ]
  },
  {
   "cell_type": "code",
   "execution_count": 30,
   "metadata": {},
   "outputs": [
    {
     "name": "stdout",
     "output_type": "stream",
     "text": [
      "5.0\n",
      "8.0\n"
     ]
    }
   ],
   "source": [
    "print(math.sqrt(25))\n",
    "print(math.pow(2,3))"
   ]
  },
  {
   "cell_type": "code",
   "execution_count": 31,
   "metadata": {},
   "outputs": [
    {
     "name": "stdout",
     "output_type": "stream",
     "text": [
      "120\n"
     ]
    }
   ],
   "source": [
    "print(math.factorial(5))"
   ]
  },
  {
   "cell_type": "code",
   "execution_count": 32,
   "metadata": {},
   "outputs": [
    {
     "name": "stdout",
     "output_type": "stream",
     "text": [
      "0.8414709848078965\n"
     ]
    }
   ],
   "source": [
    "print(math.sin(1))"
   ]
  },
  {
   "cell_type": "code",
   "execution_count": 33,
   "metadata": {},
   "outputs": [
    {
     "name": "stdout",
     "output_type": "stream",
     "text": [
      "1.0\n"
     ]
    }
   ],
   "source": [
    "print(math.cos(0))"
   ]
  },
  {
   "cell_type": "code",
   "execution_count": 34,
   "metadata": {},
   "outputs": [
    {
     "name": "stdout",
     "output_type": "stream",
     "text": [
      "-0.1425465430742778\n",
      "4\n",
      "24\n",
      "3.141592653589793\n"
     ]
    }
   ],
   "source": [
    "print(math.tan(3))\n",
    "print(math.gcd(12,8))\n",
    "print(math.lcm(12,8))\n",
    "print(math.pi)"
   ]
  },
  {
   "cell_type": "code",
   "execution_count": 52,
   "metadata": {},
   "outputs": [
    {
     "name": "stdout",
     "output_type": "stream",
     "text": [
      "get a random number between 0 and 1: 0.21954181099775993\n",
      "get a random number between 1 and 100: 0.590984367105915\n",
      "get a random element from a list: 4\n",
      "shuffle a list: ['David', 'Eve', 'Alice', 'Bob', 'charlie']\n"
     ]
    }
   ],
   "source": [
    "from random import random, randint, choice, shuffle\n",
    "print('get a random number between 0 and 1:', random())\n",
    "print('get a random number between 1 and 100:', random())\n",
    "print('get a random element from a list:', choice([1,2,3,4,5]))\n",
    "names = ['Alice','Bob','charlie', 'David', 'Eve']\n",
    "shuffle(names)\n",
    "print('shuffle a list:', names)"
   ]
  },
  {
   "cell_type": "code",
   "execution_count": 59,
   "metadata": {},
   "outputs": [],
   "source": [
    "from datetime import datetime as dt"
   ]
  },
  {
   "cell_type": "code",
   "execution_count": 62,
   "metadata": {},
   "outputs": [
    {
     "name": "stdout",
     "output_type": "stream",
     "text": [
      "Current date and time: 2025-02-05 17:27:11.318880\n",
      "Current month: 2\n",
      "Current day: 5\n",
      "Current hour 17\n",
      "Current minute: 27\n",
      "Current second: 11\n"
     ]
    }
   ],
   "source": [
    "print(\"Current date and time:\", dt.now())\n",
    "print(\"Current month:\", dt.now().month)\n",
    "print(\"Current day:\", dt.now().day)\n",
    "print(\"Current hour\", dt.now().hour)\n",
    "print(\"Current minute:\", dt.now().minute)\n",
    "print(\"Current second:\", dt.now().second)"
   ]
  },
  {
   "cell_type": "code",
   "execution_count": 2,
   "metadata": {},
   "outputs": [],
   "source": [
    "import os "
   ]
  },
  {
   "cell_type": "code",
   "execution_count": 3,
   "metadata": {},
   "outputs": [
    {
     "name": "stdout",
     "output_type": "stream",
     "text": [
      "current working directory: c:\\Users\\ASUS\\OneDrive\\Desktop\\mini\n"
     ]
    }
   ],
   "source": [
    "print('current working directory:', os.getcwd())"
   ]
  },
  {
   "cell_type": "code",
   "execution_count": 4,
   "metadata": {},
   "outputs": [
    {
     "name": "stdout",
     "output_type": "stream",
     "text": [
      "files in the current: ['.git', 'base.ipynb', 'basic.py', 'conditions.ipynb', 'Data Structure', 'data types.ipynb', 'function.ipynb', 'library.ipynb', 'loops.ipynb', 'operaters.ipynb']\n",
      "10 files found\n"
     ]
    }
   ],
   "source": [
    "files = os.listdir()\n",
    "print('files in the current:',files)\n",
    "print(len(files), 'files found')"
   ]
  },
  {
   "cell_type": "code",
   "execution_count": 7,
   "metadata": {},
   "outputs": [
    {
     "name": "stdout",
     "output_type": "stream",
     "text": [
      "files in the directory: ['.git', 'base.ipynb', 'basic.py', 'conditions.ipynb', 'Data Structure', 'data types.ipynb', 'function.ipynb', 'library.ipynb', 'loops.ipynb', 'operaters.ipynb']\n"
     ]
    }
   ],
   "source": [
    "file = os.listdir(r\"C:\\Users\\ASUS\\OneDrive\\Desktop\\Practice\")\n",
    "print(\"files in the directory:\", files)"
   ]
  },
  {
   "cell_type": "code",
   "execution_count": 8,
   "metadata": {},
   "outputs": [
    {
     "name": "stdout",
     "output_type": "stream",
     "text": [
      "=> c:\n",
      "folders: ['.git', 'Data Structure']\n",
      "files: ['base.ipynb', 'basic.py', 'conditions.ipynb', 'data types.ipynb', 'function.ipynb', 'library.ipynb', 'loops.ipynb', 'operaters.ipynb']\n",
      "=> c:.git\n",
      "folders: ['hooks', 'info', 'logs', 'objects', 'refs']\n",
      "files: ['COMMIT_EDITMSG', 'config', 'description', 'FETCH_HEAD', 'HEAD', 'index', 'ORIG_HEAD']\n",
      "=> c:.git\\hooks\n",
      "folders: []\n",
      "files: ['applypatch-msg.sample', 'commit-msg.sample', 'fsmonitor-watchman.sample', 'post-update.sample', 'pre-applypatch.sample', 'pre-commit.sample', 'pre-merge-commit.sample', 'pre-push.sample', 'pre-rebase.sample', 'pre-receive.sample', 'prepare-commit-msg.sample', 'push-to-checkout.sample', 'sendemail-validate.sample', 'update.sample']\n",
      "=> c:.git\\info\n",
      "folders: []\n",
      "files: ['exclude']\n",
      "=> c:.git\\logs\n",
      "folders: ['refs']\n",
      "files: ['HEAD']\n",
      "=> c:.git\\logs\\refs\n",
      "folders: ['heads', 'remotes']\n",
      "files: []\n",
      "=> c:.git\\logs\\refs\\heads\n",
      "folders: []\n",
      "files: ['main']\n",
      "=> c:.git\\logs\\refs\\remotes\n",
      "folders: ['origin']\n",
      "files: []\n",
      "=> c:.git\\logs\\refs\\remotes\\origin\n",
      "folders: []\n",
      "files: ['main']\n",
      "=> c:.git\\objects\n",
      "folders: ['01', '04', '0e', '17', '20', '23', '25', '28', '2e', '30', '4b', '4f', '54', '57', '61', '65', '6a', '6d', '70', '76', '7c', '82', '8a', '90', '98', 'b1', 'bc', 'bd', 'c8', 'd6', 'd7', 'da', 'dc', 'e0', 'e5', 'e6', 'f4', 'fa', 'info', 'pack']\n",
      "files: []\n",
      "=> c:.git\\objects\\01\n",
      "folders: []\n",
      "files: ['20c6421fa8aadbccbfffad66f5f363d65a0f46']\n",
      "=> c:.git\\objects\\04\n",
      "folders: []\n",
      "files: ['a9c98182ceb674b224573472ac46b22f717d08']\n",
      "=> c:.git\\objects\\0e\n",
      "folders: []\n",
      "files: ['3c581da1cc33e8856f018e2fce1bbf356b8fcb', '928bec23c69a89ecc9546e11970ff33b892107']\n",
      "=> c:.git\\objects\\17\n",
      "folders: []\n",
      "files: ['c3a293543a7d92c798af96a2baf437de869f28']\n",
      "=> c:.git\\objects\\20\n",
      "folders: []\n",
      "files: ['caf8a59d3c3543a069cc65c67e5d71cf95d5c7']\n",
      "=> c:.git\\objects\\23\n",
      "folders: []\n",
      "files: ['742a11ff9a792e2896259a3d169c9ef13e5286']\n",
      "=> c:.git\\objects\\25\n",
      "folders: []\n",
      "files: ['4f0dcc9e9a9bb9c293699140540801a0ae8ffe']\n",
      "=> c:.git\\objects\\28\n",
      "folders: []\n",
      "files: ['42ead5d7123d4235ba5d45ad69536e15e79b47']\n",
      "=> c:.git\\objects\\2e\n",
      "folders: []\n",
      "files: ['3bd34125e00262bbe7213543668aa96c8eb28d']\n",
      "=> c:.git\\objects\\30\n",
      "folders: []\n",
      "files: ['42f08596fdb5a6677a7c6816dd4e1fe9816a20']\n",
      "=> c:.git\\objects\\4b\n",
      "folders: []\n",
      "files: ['8225b7cb89445b693e121abe030cfac788c157']\n",
      "=> c:.git\\objects\\4f\n",
      "folders: []\n",
      "files: ['2b7dff8a79f876f55602cf4c643232c4cc535b']\n",
      "=> c:.git\\objects\\54\n",
      "folders: []\n",
      "files: ['fc6717d09a5ec42f5847b8912d5a91a770be33']\n",
      "=> c:.git\\objects\\57\n",
      "folders: []\n",
      "files: ['c11b1e0a94365379f40fb5861340e0f6677f26']\n",
      "=> c:.git\\objects\\61\n",
      "folders: []\n",
      "files: ['5a91ba80644813cf512e52e925978bd982a439', '839ccf40d86b4c89b36819f0e6c7f8496e5f17']\n",
      "=> c:.git\\objects\\65\n",
      "folders: []\n",
      "files: ['91cd8ee960bc7712840a4aed14e6b9bab79a24']\n",
      "=> c:.git\\objects\\6a\n",
      "folders: []\n",
      "files: ['36a95f67b603eca7d915945e4f8184d0746a47']\n",
      "=> c:.git\\objects\\6d\n",
      "folders: []\n",
      "files: ['c4f75a6f3461cc0d81e57da769a78abb2ee07e']\n",
      "=> c:.git\\objects\\70\n",
      "folders: []\n",
      "files: ['6a7c31e9456d842865d40b7269298dfbc1d83b']\n",
      "=> c:.git\\objects\\76\n",
      "folders: []\n",
      "files: ['3b0c738beb5b31a3e0990cec46b00e637f3712']\n",
      "=> c:.git\\objects\\7c\n",
      "folders: []\n",
      "files: ['c12167ebf45b37aec24e54cf37c0c5cbe6a5e3']\n",
      "=> c:.git\\objects\\82\n",
      "folders: []\n",
      "files: ['8c9bc91716e0b04fbaf1ade94f86f30a7848ae']\n",
      "=> c:.git\\objects\\8a\n",
      "folders: []\n",
      "files: ['516a5ac42c2eedea5aad1e28942b2748de5761']\n",
      "=> c:.git\\objects\\90\n",
      "folders: []\n",
      "files: ['478abb56d39f8b9776fe923a333b45889c5ef6']\n",
      "=> c:.git\\objects\\98\n",
      "folders: []\n",
      "files: ['1f9bdc04c25e76e126c990b174563e2b4f83b8']\n",
      "=> c:.git\\objects\\b1\n",
      "folders: []\n",
      "files: ['6a29f66fb2d22412eebc0ab1851eb2d1a47497']\n",
      "=> c:.git\\objects\\bc\n",
      "folders: []\n",
      "files: ['7ecd65f19aafef10b894eb0d6ec0d9a523f681']\n",
      "=> c:.git\\objects\\bd\n",
      "folders: []\n",
      "files: ['b71f8cb92f2e8ed8dc440f37a42b27efeacff8']\n",
      "=> c:.git\\objects\\c8\n",
      "folders: []\n",
      "files: ['9289985cc10bb04a55aa3dd9778b4c0331b57d']\n",
      "=> c:.git\\objects\\d6\n",
      "folders: []\n",
      "files: ['1e218db6e030b97849cb0dc102f4829278309c', '318423fd3d520e26a73d50c15a7364e7aed6c3']\n",
      "=> c:.git\\objects\\d7\n",
      "folders: []\n",
      "files: ['23678042cc3d0e3599471d1ffda113c9a1beb8']\n",
      "=> c:.git\\objects\\da\n",
      "folders: []\n",
      "files: ['8842e7df65775941b233d69c726432a80d4ec9']\n",
      "=> c:.git\\objects\\dc\n",
      "folders: []\n",
      "files: ['0d73058f8d9bec9194ee23f87b41060fdaa380']\n",
      "=> c:.git\\objects\\e0\n",
      "folders: []\n",
      "files: ['a3766833997a736a8e06ba036cb40ae2a2e669']\n",
      "=> c:.git\\objects\\e5\n",
      "folders: []\n",
      "files: ['b4a801e6705028b842f7f848a97cd0353e75c4']\n",
      "=> c:.git\\objects\\e6\n",
      "folders: []\n",
      "files: ['9de29bb2d1d6434b8b29ae775ad8c2e48c5391']\n",
      "=> c:.git\\objects\\f4\n",
      "folders: []\n",
      "files: ['179ef51892ac1c5611ae57e4962a6088c943fb']\n",
      "=> c:.git\\objects\\fa\n",
      "folders: []\n",
      "files: ['9a69edee65e712176b6971a3ef69ea129692df']\n",
      "=> c:.git\\objects\\info\n",
      "folders: []\n",
      "files: []\n",
      "=> c:.git\\objects\\pack\n",
      "folders: []\n",
      "files: []\n",
      "=> c:.git\\refs\n",
      "folders: ['heads', 'remotes', 'tags']\n",
      "files: []\n",
      "=> c:.git\\refs\\heads\n",
      "folders: []\n",
      "files: ['main']\n",
      "=> c:.git\\refs\\remotes\n",
      "folders: ['origin']\n",
      "files: []\n",
      "=> c:.git\\refs\\remotes\\origin\n",
      "folders: []\n",
      "files: ['main']\n",
      "=> c:.git\\refs\\tags\n",
      "folders: []\n",
      "files: []\n",
      "=> c:Data Structure\n",
      "folders: []\n",
      "files: ['dictionary.ipynb', 'list.ipynb', 'sets.ipynb', 'string.ipynb']\n",
      "total files found: 80\n"
     ]
    }
   ],
   "source": [
    "total_files =0\n",
    "for path, folders, files in os.walk(\"c:\"):\n",
    "    print('=>', path)\n",
    "    print('folders:', folders)\n",
    "    print('files:', files)\n",
    "    total_files += len(files)\n",
    "print('total files found:', total_files)"
   ]
  },
  {
   "cell_type": "code",
   "execution_count": 9,
   "metadata": {},
   "outputs": [
    {
     "name": "stdout",
     "output_type": "stream",
     "text": [
      "C:\\Users\\ASUS\\OneDrive\\Desktop\\Practice exists\n"
     ]
    }
   ],
   "source": [
    "file = r\"C:\\Users\\ASUS\\OneDrive\\Desktop\\Practice\"\n",
    "if os.path.exists(file):\n",
    "    print(file, 'exists')\n",
    "else:\n",
    "    print(file, 'does not exist')"
   ]
  },
  {
   "cell_type": "code",
   "execution_count": 10,
   "metadata": {},
   "outputs": [
    {
     "name": "stdout",
     "output_type": "stream",
     "text": [
      "folder exists\n",
      "folder size: 4096 bytes\n",
      "folder size in kb: 4.0 kb\n",
      "folder size in mb: 0.00390625 mb\n",
      "folder size in gb: 3.814697265625e-06 gb\n"
     ]
    }
   ],
   "source": [
    "files = r\"C:\\Users\\ASUS\\OneDrive\\Desktop\\Practice\"\n",
    "if os.path.exists(files):\n",
    "    print(\"folder exists\")\n",
    "    size = os.path.getsize(files)\n",
    "    print('folder size:', size, 'bytes')\n",
    "    print('folder size in kb:', size / 1024, 'kb')\n",
    "    print('folder size in mb:', size / 1024 /1024, 'mb')\n",
    "    print('folder size in gb:', size /1024 / 1024 / 1024, 'gb')"
   ]
  }
 ],
 "metadata": {
  "kernelspec": {
   "display_name": "base",
   "language": "python",
   "name": "python3"
  },
  "language_info": {
   "codemirror_mode": {
    "name": "ipython",
    "version": 3
   },
   "file_extension": ".py",
   "mimetype": "text/x-python",
   "name": "python",
   "nbconvert_exporter": "python",
   "pygments_lexer": "ipython3",
   "version": "3.12.3"
  }
 },
 "nbformat": 4,
 "nbformat_minor": 2
}

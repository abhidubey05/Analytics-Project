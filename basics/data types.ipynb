{
 "cells": [
  {
   "cell_type": "code",
   "execution_count": 8,
   "metadata": {},
   "outputs": [
    {
     "name": "stdout",
     "output_type": "stream",
     "text": [
      "[23, 67, 'apple', 'banana', True, 45.3]\n"
     ]
    }
   ],
   "source": [
    "#list of items\n",
    "items = [23,67,'apple', 'banana',True,45.3]\n",
    "print(items)"
   ]
  },
  {
   "cell_type": "code",
   "execution_count": 9,
   "metadata": {},
   "outputs": [
    {
     "name": "stdout",
     "output_type": "stream",
     "text": [
      "(23, 67, 'apple', 'banana', True, 45.3)\n"
     ]
    }
   ],
   "source": [
    "#tuple of items\n",
    "items = (23,67,'apple','banana', True,45.3)\n",
    "print(items)"
   ]
  },
  {
   "cell_type": "code",
   "execution_count": 10,
   "metadata": {},
   "outputs": [
    {
     "name": "stdout",
     "output_type": "stream",
     "text": [
      "{True, 67, 23, 'apple', 'banana', 45.3}\n"
     ]
    }
   ],
   "source": [
    "#set of items\n",
    "items = {23,67,'apple','banana',True,45.3,'banana',45.3}\n",
    "print(items)"
   ]
  },
  {
   "cell_type": "code",
   "execution_count": 14,
   "metadata": {},
   "outputs": [
    {
     "name": "stdout",
     "output_type": "stream",
     "text": [
      "{'name': 'john', 'age': 23, 'gender': 'male', 'address': '123 main st'}\n"
     ]
    }
   ],
   "source": [
    "#Dictionary of items\n",
    "Student={\n",
    "    \"name\": \"john\",\n",
    "    \"age\" : 23,\n",
    "    \"gender\":\"male\",\n",
    "    \"address\": \"123 main st\"\n",
    "}\n",
    "print(Student)"
   ]
  },
  {
   "cell_type": "code",
   "execution_count": 15,
   "metadata": {},
   "outputs": [
    {
     "data": {
      "text/plain": [
       "float"
      ]
     },
     "execution_count": 15,
     "metadata": {},
     "output_type": "execute_result"
    }
   ],
   "source": [
    "a =66787.787\n",
    "type(a)"
   ]
  },
  {
   "cell_type": "markdown",
   "metadata": {},
   "source": [
    "There are two ways to take input\n",
    "- Direct assigning values in a variable\n",
    "- Taking input from the user"
   ]
  },
  {
   "cell_type": "code",
   "execution_count": 17,
   "metadata": {},
   "outputs": [
    {
     "name": "stdout",
     "output_type": "stream",
     "text": [
      "hello\n"
     ]
    }
   ],
   "source": [
    "a =\"hello\"\n",
    "print(a)"
   ]
  },
  {
   "cell_type": "code",
   "execution_count": 21,
   "metadata": {},
   "outputs": [
    {
     "name": "stdout",
     "output_type": "stream",
     "text": [
      "78\n"
     ]
    }
   ],
   "source": [
    "a = input(\"Enter the number\")\n",
    "print(a)"
   ]
  },
  {
   "cell_type": "code",
   "execution_count": 20,
   "metadata": {},
   "outputs": [
    {
     "data": {
      "text/plain": [
       "str"
      ]
     },
     "execution_count": 20,
     "metadata": {},
     "output_type": "execute_result"
    }
   ],
   "source": [
    "type(a)"
   ]
  },
  {
   "cell_type": "code",
   "execution_count": 23,
   "metadata": {},
   "outputs": [
    {
     "name": "stdout",
     "output_type": "stream",
     "text": [
      "11\n"
     ]
    }
   ],
   "source": [
    "a = input(\"Enter the number\")\n",
    "b = input(\"Enter the another number\")\n",
    "a1 = int(a) #typecasting - converting string to integer\n",
    "b1 = int(b)\n",
    "print(a1+b1)\n"
   ]
  },
  {
   "cell_type": "code",
   "execution_count": 24,
   "metadata": {},
   "outputs": [
    {
     "name": "stdout",
     "output_type": "stream",
     "text": [
      "9\n"
     ]
    }
   ],
   "source": [
    "a = int(input(\"Enter a number\"))\n",
    "print(a)"
   ]
  },
  {
   "cell_type": "code",
   "execution_count": 1,
   "metadata": {},
   "outputs": [
    {
     "name": "stdout",
     "output_type": "stream",
     "text": [
      "twinkle twinkle little star\n",
      "how i wonder what u r\n",
      "up above the world to high\n",
      "little a diamond in the sky\n"
     ]
    }
   ],
   "source": [
    "poem = '''twinkle twinkle little star\n",
    "how i wonder what u r\n",
    "up above the world to high\n",
    "little a diamond in the sky'''\n",
    "print(poem)\n"
   ]
  }
 ],
 "metadata": {
  "kernelspec": {
   "display_name": "base",
   "language": "python",
   "name": "python3"
  },
  "language_info": {
   "codemirror_mode": {
    "name": "ipython",
    "version": 3
   },
   "file_extension": ".py",
   "mimetype": "text/x-python",
   "name": "python",
   "nbconvert_exporter": "python",
   "pygments_lexer": "ipython3",
   "version": "3.12.3"
  }
 },
 "nbformat": 4,
 "nbformat_minor": 2
}

{
 "cells": [
  {
   "cell_type": "markdown",
   "metadata": {},
   "source": [
    "# function Types\n",
    "\n",
    "- parameterized\n",
    "- non-parameterized\n",
    "- return\n",
    "- non return\n",
    "- default parameters"
   ]
  },
  {
   "cell_type": "code",
   "execution_count": 2,
   "metadata": {},
   "outputs": [],
   "source": [
    "# non parameterized\n",
    "def my_func():\n",
    "    print(\"Hello from my_func\")\n",
    "    print(\"This is a function\")\n",
    "    print(\"goodbye!\")"
   ]
  },
  {
   "cell_type": "code",
   "execution_count": 4,
   "metadata": {},
   "outputs": [
    {
     "name": "stdout",
     "output_type": "stream",
     "text": [
      "Hello from my_func\n",
      "This is a function\n",
      "goodbye!\n"
     ]
    }
   ],
   "source": [
    "my_func()"
   ]
  },
  {
   "cell_type": "code",
   "execution_count": 5,
   "metadata": {},
   "outputs": [
    {
     "name": "stdout",
     "output_type": "stream",
     "text": [
      "Hello Abhishek\n",
      "Goodbye! Abhishek\n"
     ]
    }
   ],
   "source": [
    "# parameterized\n",
    "def name(name):\n",
    "    print(\"Hello\",name)\n",
    "    print(\"Goodbye!\",name)\n",
    "\n",
    "name(\"Abhishek\")\n"
   ]
  },
  {
   "cell_type": "code",
   "execution_count": 7,
   "metadata": {},
   "outputs": [],
   "source": [
    "def average(a,b):\n",
    "    print((a+b)/2)"
   ]
  },
  {
   "cell_type": "code",
   "execution_count": 8,
   "metadata": {},
   "outputs": [
    {
     "name": "stdout",
     "output_type": "stream",
     "text": [
      "15.0\n"
     ]
    }
   ],
   "source": [
    "average(10,20)"
   ]
  },
  {
   "cell_type": "code",
   "execution_count": 9,
   "metadata": {},
   "outputs": [
    {
     "name": "stdout",
     "output_type": "stream",
     "text": [
      "25\n"
     ]
    }
   ],
   "source": [
    "# return\n",
    "def func(x):\n",
    "    return 5*x\n",
    "\n",
    "a = func(5)\n",
    "print(a)\n"
   ]
  },
  {
   "cell_type": "code",
   "execution_count": 10,
   "metadata": {},
   "outputs": [
    {
     "name": "stdout",
     "output_type": "stream",
     "text": [
      "None\n"
     ]
    }
   ],
   "source": [
    "# non return\n",
    "def func(x):\n",
    "    5*x\n",
    "\n",
    "a = func(5)\n",
    "print(a)"
   ]
  },
  {
   "cell_type": "code",
   "execution_count": 11,
   "metadata": {},
   "outputs": [],
   "source": [
    "# default parameterized function\n",
    "def my_country(country = \"India\"):\n",
    "    print(\"I am from\", country)"
   ]
  },
  {
   "cell_type": "code",
   "execution_count": 13,
   "metadata": {},
   "outputs": [
    {
     "name": "stdout",
     "output_type": "stream",
     "text": [
      "I am from USA\n",
      "I am from Uk\n",
      "I am from India\n",
      "I am from Canada\n"
     ]
    }
   ],
   "source": [
    "my_country(\"USA\")\n",
    "my_country(\"Uk\")\n",
    "my_country()\n",
    "my_country(\"Canada\")"
   ]
  },
  {
   "cell_type": "code",
   "execution_count": 14,
   "metadata": {},
   "outputs": [
    {
     "name": "stdout",
     "output_type": "stream",
     "text": [
      "apple\n",
      "banana\n",
      "cherry\n",
      "mango\n"
     ]
    }
   ],
   "source": [
    "# function ke anadar loop \n",
    "def fruits(fruit):\n",
    "    for x in fruit:\n",
    "        print(x)\n",
    "\n",
    "fruits([\"apple\",\"banana\",\"cherry\",\"mango\"])"
   ]
  },
  {
   "cell_type": "code",
   "execution_count": 18,
   "metadata": {},
   "outputs": [
    {
     "name": "stdout",
     "output_type": "stream",
     "text": [
      "odd\n"
     ]
    }
   ],
   "source": [
    "# function for even odd number\n",
    "def even_odd(x):\n",
    "    if x % 2 == 0:\n",
    "        print(\"Even\")\n",
    "    else:\n",
    "        print(\"odd\")\n",
    "even_odd(5)"
   ]
  },
  {
   "cell_type": "code",
   "execution_count": 17,
   "metadata": {},
   "outputs": [],
   "source": [
    "# lambda function for even odd number\n",
    "even_odd = lambda x: \"Even\" if x % 2 ==0 else \"odd\"\n"
   ]
  },
  {
   "cell_type": "code",
   "execution_count": 19,
   "metadata": {},
   "outputs": [
    {
     "name": "stdout",
     "output_type": "stream",
     "text": [
      "True\n"
     ]
    }
   ],
   "source": [
    "even = lambda a : a % 2 ==0\n",
    "print(even(2))"
   ]
  },
  {
   "cell_type": "markdown",
   "metadata": {},
   "source": [
    "- check a number is prime or not\n",
    "- convert temperature calcius to fahrenheit\n",
    "- find maximum of three numbers\n",
    "- calculate factorial\n",
    "- Reverse of a string\n",
    "- count vowels in a string\n",
    "- calculate BMI(Body Mass Index)"
   ]
  },
  {
   "cell_type": "code",
   "execution_count": 26,
   "metadata": {},
   "outputs": [],
   "source": [
    "\n",
    "def num(x):\n",
    "    if x>1:\n",
    "        for i in range(2,x):\n",
    "            if (x%i)==0:\n",
    "                print(x,\"not prime number\")\n",
    "                break\n",
    "        else:\n",
    "            print(x,\" prime number\")\n",
    "a = int(input(\"Enter the number\"))\n",
    "\n",
    "print(num(a))"
   ]
  },
  {
   "cell_type": "code",
   "execution_count": 33,
   "metadata": {},
   "outputs": [
    {
     "name": "stdout",
     "output_type": "stream",
     "text": [
      "maximum of three number: 40.0\n"
     ]
    }
   ],
   "source": [
    "\n",
    "def max(a,b,c):\n",
    "    if a >=b and a >=c:\n",
    "        return a\n",
    "    elif b >=a and b>=c:\n",
    "        return b\n",
    "    else:\n",
    "        return c\n",
    "x = float(input(\"Enter the first number\"))\n",
    "y = float(input(\"Enter the second number\"))\n",
    "z = float(input(\"Enter the third number\"))\n",
    "\n",
    "print(\"maximum of three number:\", max(x,y,z))"
   ]
  },
  {
   "cell_type": "code",
   "execution_count": null,
   "metadata": {},
   "outputs": [],
   "source": [
    "def factorial(n):\n",
    "    i=1\n",
    "    fact=1\n",
    "    if i<=27 and fact==fact*i :\n",
    "        if i>27:\n",
    "    else:\n",
    "        print(fact)\n",
    "\n"
   ]
  }
 ],
 "metadata": {
  "kernelspec": {
   "display_name": "base",
   "language": "python",
   "name": "python3"
  },
  "language_info": {
   "codemirror_mode": {
    "name": "ipython",
    "version": 3
   },
   "file_extension": ".py",
   "mimetype": "text/x-python",
   "name": "python",
   "nbconvert_exporter": "python",
   "pygments_lexer": "ipython3",
   "version": "3.12.3"
  }
 },
 "nbformat": 4,
 "nbformat_minor": 2
}

{
 "cells": [
  {
   "cell_type": "code",
   "execution_count": 2,
   "metadata": {},
   "outputs": [
    {
     "name": "stdout",
     "output_type": "stream",
     "text": [
      "A+\n",
      "A\n",
      "b\n"
     ]
    }
   ],
   "source": [
    "marks = int(input(\"Enter a number:\"))\n",
    "if marks >=90:\n",
    "    print(\"A+\")\n",
    "if marks >=70:\n",
    "    print(\"A\")\n",
    "if marks >=60:\n",
    "    print(\"b\")\n",
    "if marks <60:\n",
    "    print(\"fail\")"
   ]
  },
  {
   "cell_type": "code",
   "execution_count": null,
   "metadata": {},
   "outputs": [],
   "source": [
    "marks = int(input(\"Enter a number:\"))\n",
    "if marks >=90:\n",
    "    print(\"A+\")\n",
    "elif marks >=70:\n",
    "    print(\"A\")\n",
    "elif marks >=60:\n",
    "    print(\"b\")\n",
    "elif marks <60:\n",
    "    print(\"fail\")\n",
    "else:\n",
    "    print(\"invaild input\")"
   ]
  },
  {
   "cell_type": "code",
   "execution_count": null,
   "metadata": {},
   "outputs": [],
   "source": [
    "age = 20\n",
    "if age>=18:\n",
    "    print(\"You are eligible to vote\")\n",
    "else:\n",
    "    print(\"You are not eligible to vote\")"
   ]
  },
  {
   "cell_type": "markdown",
   "metadata": {},
   "source": [
    "# Enter a character by user and check if it is a vowel or consonant"
   ]
  },
  {
   "cell_type": "code",
   "execution_count": null,
   "metadata": {},
   "outputs": [],
   "source": [
    "char= input(\"Enter a character\")\n",
    "if char in \"aeiou\":\n",
    "    print(\"vowel\")\n",
    "else:\n",
    "    print(\"consonant\")\n",
    "\n"
   ]
  },
  {
   "cell_type": "markdown",
   "metadata": {},
   "source": [
    "- to check whether a number is positive or not\n",
    "- to check whether a number is even or odd\n",
    "- to check whether two sides of a rectangle is equal or not\n",
    "- to check whether a triangle is an equilateral, iscoseles or scalene triangle\n",
    "- to check whether a year is leap year or not \n",
    "- Calculate the net salary of an employee where basic salary (bs) is 50,000, TDA is 10% of bs and hra is 5% of bs. print the message accordingly .\n",
    "- Calculate an area of a circle."
   ]
  },
  {
   "cell_type": "code",
   "execution_count": null,
   "metadata": {},
   "outputs": [],
   "source": [
    "#Answer=1\n",
    "num = int(input(\"Enter the number\"))\n",
    "if num>=0:\n",
    "    print(\"positive\")\n",
    "else:\n",
    "    print(\"not postive\")"
   ]
  },
  {
   "cell_type": "code",
   "execution_count": null,
   "metadata": {},
   "outputs": [],
   "source": [
    "#Answer=2\n",
    "num = int(input(\"Enter the number\"))\n",
    "if num%2==0:\n",
    "    print(\"This is even number\")\n",
    "else:\n",
    "    print(\"This is odd number\")"
   ]
  },
  {
   "cell_type": "code",
   "execution_count": null,
   "metadata": {},
   "outputs": [],
   "source": [
    "#Answer=3\n",
    "num1 = int(input(\"Enter the length\"))\n",
    "num2 = int(input(\"Enter the width\"))\n",
    "if num1==num2:\n",
    "    print(\"The sides are equal. It's is a rectangle\")\n",
    "else:\n",
    "    print(\"This sides are not equal. It's is not rectangle\")"
   ]
  },
  {
   "cell_type": "code",
   "execution_count": null,
   "metadata": {},
   "outputs": [],
   "source": [
    "# Answer=4 \n",
    "num1 = int(input(\"Enter the length a:\"))\n",
    "num2 = int(input(\"Enter the length b:\"))\n",
    "num3 = int(input(\"Enter the length c:\"))\n",
    "if num1==num2==num3:\n",
    "    print(\"this is equilateral \")\n",
    "elif num1==num2 or num2==num3 or num1!=num3:\n",
    "    print(\"this is iscoseles\")\n",
    "else:\n",
    "    print(\"this is scalene\")"
   ]
  },
  {
   "cell_type": "code",
   "execution_count": null,
   "metadata": {},
   "outputs": [],
   "source": [
    "#Answer=7\n",
    "import math\n",
    "radius = float(input(\"Enter the number\"))\n",
    "area = math.pi* radius**2\n",
    "print(\"area of circle\", area)"
   ]
  },
  {
   "cell_type": "code",
   "execution_count": null,
   "metadata": {},
   "outputs": [],
   "source": [
    "# Answer=5\n",
    "year = int(input(\"Enter the year\"))\n",
    "if year % 4 == 0 and year % 100 !=0 or year % 400 ==0:\n",
    "    print(\"This year is a leap year\")\n",
    "else:\n",
    "    print(\"this is not leap year\")\n"
   ]
  },
  {
   "cell_type": "code",
   "execution_count": null,
   "metadata": {},
   "outputs": [],
   "source": [
    "# Neasted if statement\n",
    "username= input(\"Enter the username:\")\n",
    "email = input(\"Enter email:\")\n",
    "password = input(\"Enter password:\")\n",
    "cpassword = input(\"Enter confirm password:\")\n",
    "\n",
    "if len(username)>5 and len(username)<20:\n",
    "    if \"@\" in email and len(email)<30:\n",
    "        if len(password)>=8 and len (password)<20:\n",
    "            if password == cpassword:\n",
    "                print(\"Hurray ! You are registered\")\n",
    "            else:\n",
    "                print(\"Pasword does not match😂\")\n",
    "        else:\n",
    "            print(\"Password should be between 8 to 20 character😂\")\n",
    "    else:\n",
    "        print(\"Invalid email😂\")\n",
    "else:\n",
    "    print(\"Invalid username😂\")\n"
   ]
  }
 ],
 "metadata": {
  "kernelspec": {
   "display_name": "Python 3",
   "language": "python",
   "name": "python3"
  },
  "language_info": {
   "codemirror_mode": {
    "name": "ipython",
    "version": 3
   },
   "file_extension": ".py",
   "mimetype": "text/x-python",
   "name": "python",
   "nbconvert_exporter": "python",
   "pygments_lexer": "ipython3",
   "version": "3.12.9"
  }
 },
 "nbformat": 4,
 "nbformat_minor": 2
}
